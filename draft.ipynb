{
  "cells": [
    {
      "cell_type": "code",
      "execution_count": 6,
      "id": "0cb859ab",
      "metadata": {
        "colab": {
          "base_uri": "https://localhost:8080/"
        },
        "id": "0cb859ab",
        "outputId": "555a4a31-444c-4a48-de26-1f0f5995a454"
      },
      "outputs": [
        {
          "name": "stdout",
          "output_type": "stream",
          "text": [
            "Country Key for Spain: 6\n"
          ]
        }
      ],
      "source": [
        "import requests\n",
        "\n",
        "API_KEY = '413d101d1e60dd334ffe8202781937d45e25044e9defea1db882eec3962bb31f'  \n",
        "BASE_URL = 'https://apiv2.allsportsapi.com/football/'\n",
        "\n",
        "def get_country_key(country_name):\n",
        "    params = {\n",
        "        'met': 'Countries',\n",
        "        'APIkey': API_KEY\n",
        "    }\n",
        "    response = requests.get(BASE_URL, params=params)\n",
        "    data = response.json()\n",
        "    for country in data['result']:\n",
        "        if country['country_name'].lower() == country_name.lower():\n",
        "            return country['country_key']\n",
        "    return None\n",
        "\n",
        "country_key = get_country_key('Spain')\n",
        "print(f\"Country Key for Spain: {country_key}\")\n",
        "\n"
      ]
    },
    {
      "cell_type": "code",
      "execution_count": 5,
      "id": "177f6c92",
      "metadata": {
        "id": "177f6c92",
        "outputId": "cbab49d6-62ca-460e-db4b-f4429905027b"
      },
      "outputs": [
        {
          "name": "stdout",
          "output_type": "stream",
          "text": [
            "League ID for La Liga: 302\n"
          ]
        }
      ],
      "source": [
        "import requests\n",
        "import json\n",
        "\n",
        "BASE_URL = \"https://apiv2.allsportsapi.com/football/\"\n",
        "API_KEY = '413d101d1e60dd334ffe8202781937d45e25044e9defea1db882eec3962bb31f'  \n",
        "\n",
        "def get_country_key(country_name):\n",
        "    params = {\n",
        "        'met': 'Countries',\n",
        "        'APIkey': API_KEY\n",
        "    }\n",
        "    response = requests.get(BASE_URL, params=params)\n",
        "    data = response.json()\n",
        "\n",
        "    for country in data.get('result', []):\n",
        "        if country.get('country_name', '').lower() == country_name.lower():\n",
        "            return country.get('country_key')\n",
        "    return None\n",
        "\n",
        "def get_league_id(country_key, league_name):\n",
        "    params = {\n",
        "        'met': 'Leagues',\n",
        "        'APIkey': API_KEY,\n",
        "        'countryId': country_key\n",
        "    }\n",
        "    response = requests.get(BASE_URL, params=params)\n",
        "    data = response.json()\n",
        "\n",
        "\n",
        "    for league in data.get('result', []):\n",
        "        if league.get('league_name', '').lower() == league_name.lower():\n",
        "            return league.get('league_id') or league.get('league_key') \n",
        "\n",
        "    print(f\"League '{league_name}' not found for country key {country_key}.\")\n",
        "    return None\n",
        "\n",
        "country_key = get_country_key('Spain')\n",
        "if country_key:\n",
        "    league_id = get_league_id(country_key, 'La Liga')  \n",
        "    if league_id:\n",
        "        print(f\"League ID for La Liga: {league_id}\")\n",
        "    else:\n",
        "        print(\"Could not find the League ID.\")\n",
        "else:\n",
        "    print(\"Could not find the Country Key.\")\n"
      ]
    },
    {
      "cell_type": "code",
      "execution_count": 7,
      "id": "d03c869f",
      "metadata": {
        "id": "d03c869f"
      },
      "outputs": [],
      "source": [
        "def get_standings(league_id):\n",
        "    params = {\n",
        "        'met': 'Standings',\n",
        "        'APIkey': API_KEY,\n",
        "        'leagueId': league_id\n",
        "    }\n",
        "    response = requests.get(BASE_URL, params=params)\n",
        "    data = response.json()\n",
        "    return data['result']['total']\n",
        "\n",
        "standings = get_standings(league_id)\n"
      ]
    },
    {
      "cell_type": "code",
      "execution_count": 8,
      "id": "85fd7303",
      "metadata": {
        "id": "85fd7303",
        "outputId": "dc959a29-4026-4212-f63d-6be5c50c91eb"
      },
      "outputs": [
        {
          "name": "stdout",
          "output_type": "stream",
          "text": [
            "   standing_place standing_team  standing_P  standing_W  standing_D  \\\n",
            "0               1     Barcelona          34          25           4   \n",
            "1               2   Real Madrid          34          23           6   \n",
            "2               3   Atl. Madrid          34          19          10   \n",
            "3               4    Ath Bilbao          34          16          13   \n",
            "4               5    Villarreal          34          16          10   \n",
            "\n",
            "   standing_L  standing_F  standing_A  standing_GD  standing_PTS  team_key  \\\n",
            "0           5          91          33           58            79        97   \n",
            "1           5          69          33           36            75        76   \n",
            "2           5          56          27           29            67        73   \n",
            "3           5          50          26           24            61      7258   \n",
            "4           8          60          47           13            58       162   \n",
            "\n",
            "   league_key league_season league_round     standing_updated  \n",
            "0         302     2024/2025               2025-05-05 23:09:06  \n",
            "1         302     2024/2025               2025-05-05 23:09:06  \n",
            "2         302     2024/2025               2025-05-05 23:09:06  \n",
            "3         302     2024/2025               2025-05-05 23:09:06  \n",
            "4         302     2024/2025               2025-05-05 23:09:06  \n"
          ]
        }
      ],
      "source": [
        "import pandas as pd\n",
        "\n",
        "def create_standings_df(standings):\n",
        "    columns = [\n",
        "        'standing_place', 'standing_team', 'standing_P', 'standing_W',\n",
        "        'standing_D', 'standing_L', 'standing_F', 'standing_A',\n",
        "        'standing_GD', 'standing_PTS', 'team_key', 'league_key',\n",
        "        'league_season', 'league_round', 'standing_updated'\n",
        "    ]\n",
        "    df = pd.DataFrame(standings)\n",
        "    df = df[columns]\n",
        "    return df\n",
        "\n",
        "standings_df = create_standings_df(standings)\n",
        "print(standings_df.head())\n"
      ]
    },
    {
      "cell_type": "code",
      "execution_count": 9,
      "id": "e5274be5",
      "metadata": {
        "id": "e5274be5"
      },
      "outputs": [],
      "source": [
        "#standings_df.to_excel('la_liga_standings.xlsx', index=False)\n"
      ]
    },
    {
      "cell_type": "code",
      "execution_count": 10,
      "id": "0fcd5af7",
      "metadata": {
        "id": "0fcd5af7",
        "outputId": "8498a650-e984-4471-bede-39804ad9fd24"
      },
      "outputs": [
        {
          "name": "stdout",
          "output_type": "stream",
          "text": [
            "              Team  Position                        Qualification\n",
            "0        Barcelona         1                     Champions League\n",
            "1      Real Madrid         2                     Champions League\n",
            "2      Atl. Madrid         3                     Champions League\n",
            "3       Ath Bilbao         4                     Champions League\n",
            "4       Villarreal         5            Europa League Group Stage\n",
            "5            Betis         6  Europa Conference League Qualifiers\n",
            "6       Celta Vigo         7                                 None\n",
            "7   Rayo Vallecano         8                                 None\n",
            "8          Osasuna         9                                 None\n",
            "9         Mallorca        10                                 None\n",
            "10   Real Sociedad        11                                 None\n",
            "11        Valencia        12                                 None\n",
            "12          Getafe        13                                 None\n",
            "13        Espanyol        14                                 None\n",
            "14          Girona        15                                 None\n",
            "15         Sevilla        16                                 None\n",
            "16          Alaves        17                                 None\n",
            "17      Las Palmas        18                           Relegation\n",
            "18         Leganes        19                           Relegation\n",
            "19      Valladolid        20                           Relegation\n"
          ]
        }
      ],
      "source": [
        "def analyze_standings(df):\n",
        "    df['standing_place'] = df['standing_place'].astype(int)\n",
        "    df_sorted = df.sort_values('standing_place')\n",
        "\n",
        "    analysis = []\n",
        "\n",
        "    for index, row in df_sorted.iterrows():\n",
        "        position = row['standing_place']\n",
        "        team = row['standing_team']\n",
        "        if position <= 4:\n",
        "            qualification = 'Champions League'\n",
        "        elif position == 5:\n",
        "            qualification = 'Europa League Group Stage'\n",
        "        elif position == 6:\n",
        "            qualification = 'Europa Conference League Qualifiers'\n",
        "        elif position >= len(df_sorted) - 2:\n",
        "            qualification = 'Relegation'\n",
        "        else:\n",
        "            qualification = 'None'\n",
        "        analysis.append({\n",
        "            'Team': team,\n",
        "            'Position': position,\n",
        "            'Qualification': qualification\n",
        "        })\n",
        "\n",
        "    analysis_df = pd.DataFrame(analysis)\n",
        "    return analysis_df\n",
        "\n",
        "analysis_df = analyze_standings(standings_df)\n",
        "print(analysis_df)\n"
      ]
    },
    {
      "cell_type": "code",
      "execution_count": 11,
      "id": "949913f7",
      "metadata": {},
      "outputs": [],
      "source": [
        "# import streamlit as st\n",
        "# import pandas as pd\n",
        "\n",
        "# st.title(\"Football League Standings Analysis - La Liga\")\n",
        "# st.markdown(\"This website is made with Streamlit. It explains the coding process, algorithm analysis, and the final result table. - Developed by Hritesh Ghosh\")\n",
        "\n",
        "# st.header(\"Author & Task\")\n",
        "# st.markdown(\"\"\"\n",
        "# **Author:** Hritesh Ghosh  \n",
        "# **Task:** Football League Standings Analysis (Spanish La Liga)\n",
        "# \"\"\")\n",
        "\n",
        "# st.header(\"Overview\")\n",
        "# st.markdown(\"\"\"\n",
        "# This script connects to the AllSportsAPI to fetch live football standings for Spain's La Liga. It then processes the data and categorizes teams based on their positions for various European competitions and relegation.\n",
        "# \"\"\")\n",
        "\n",
        "# st.header(\"Steps Performed\")\n",
        "# steps = [\n",
        "#     \"1. Authenticated the API using a free key from AllSportsAPI.\",\n",
        "#     \"2. Retrieved the country_key for Spain.\",\n",
        "#     \"3. Fetched the league_id for Spanish La Liga.\",\n",
        "#     \"4. Pulled current league standings using the API.\",\n",
        "#     \"5. Converted API data into a pandas DataFrame with selected columns.\",\n",
        "#     \"6. Saved the DataFrame to an Excel file named `la_liga_standings.xlsx`.\",\n",
        "#     \"7. Created a function to analyze standings and return:\",\n",
        "#     \"   - Top 4 teams → Champions League (Group Stage)\",\n",
        "#     \"   - 5th team → Europa League (Group Stage)\",\n",
        "#     \"   - 6th team → Europa Conference League (Qualifiers)\",\n",
        "#     \"   - Bottom 3 teams → Relegation\",\n",
        "#     \"8. Output the results in a structured DataFrame.\"\n",
        "# ]\n",
        "# for step in steps:\n",
        "#     st.markdown(f\"- {step}\")\n",
        "\n",
        "# st.header(\"Analysis Algorithm\")\n",
        "# st.markdown(\"\"\"\n",
        "# **Input:**  \n",
        "# A Pandas DataFrame `df` containing La Liga standings with at least the columns `standing_place` and `standing_team`.\n",
        "\n",
        "# **Output:**  \n",
        "# A new DataFrame containing only the teams that qualify for European competitions or face relegation, along with their positions and qualification labels.\n",
        "\n",
        "# **Algorithm Steps:**\n",
        "# 1. Convert the `standing_place` column in `df` to integer type.  \n",
        "# 2. Sort the DataFrame `df` in ascending order by `standing_place`.  \n",
        "# 3. Initialize an empty list `analysis`.  \n",
        "# 4. For each row in the sorted DataFrame:  \n",
        "#    - Let `pos` be the value of `standing_place`.  \n",
        "#    - Let `team` be the value of `standing_team`.  \n",
        "#    - If `pos` is between 1 and 4 (inclusive), set `tag` to `\"Champions League\"`.  \n",
        "#    - Else if `pos` is equal to 5, set `tag` to `\"Europa League Group Stage\"`.  \n",
        "#    - Else if `pos` is equal to 6, set `tag` to `\"Europa Conference League Qualifiers\"`.  \n",
        "#    - Else if `pos` is greater than total number of teams - 3, set `tag` to `\"Relegation\"`.  \n",
        "#    - Otherwise, skip the team.  \n",
        "#    - Append a dictionary `{ 'Team': team, 'Position': pos, 'Qualification': tag }` to `analysis`.  \n",
        "# 5. Convert the `analysis` list into a new DataFrame and return it.\n",
        "# \"\"\")\n",
        "\n",
        "# st.header(\"Result: La Liga Qualification Summary\")\n",
        "\n",
        "# data = {\n",
        "#     \"Team\": [\n",
        "#         \"Barcelona\", \"Real Madrid\", \"Atl. Madrid\", \"Ath Bilbao\",\n",
        "#         \"Villarreal\", \"Betis\", \"Las Palmas\", \"Leganes\", \"Valladolid\"\n",
        "#     ],\n",
        "#     \"Position\": [1, 2, 3, 4, 5, 6, 18, 19, 20],\n",
        "#     \"Qualification\": [\n",
        "#         \"Champions League\", \"Champions League\", \"Champions League\", \"Champions League\",\n",
        "#         \"Europa League Group Stage\", \"Europa Conference League Qualifiers\",\n",
        "#         \"Relegation\", \"Relegation\", \"Relegation\"\n",
        "#     ]\n",
        "# }\n",
        "\n",
        "# df = pd.DataFrame(data)\n",
        "# st.dataframe(df, use_container_width=True)\n"
      ]
    },
    {
      "cell_type": "code",
      "execution_count": 12,
      "id": "d276bdd9",
      "metadata": {},
      "outputs": [
        {
          "data": {
            "text/plain": [
              "True"
            ]
          },
          "execution_count": 12,
          "metadata": {},
          "output_type": "execute_result"
        }
      ],
      "source": [
        "import webbrowser; webbrowser.open_new_tab('https://baarproject.streamlit.app/')"
      ]
    }
  ],
  "metadata": {
    "colab": {
      "provenance": []
    },
    "kernelspec": {
      "display_name": "Python 3",
      "language": "python",
      "name": "python3"
    },
    "language_info": {
      "codemirror_mode": {
        "name": "ipython",
        "version": 3
      },
      "file_extension": ".py",
      "mimetype": "text/x-python",
      "name": "python",
      "nbconvert_exporter": "python",
      "pygments_lexer": "ipython3",
      "version": "3.12.6"
    }
  },
  "nbformat": 4,
  "nbformat_minor": 5
}
